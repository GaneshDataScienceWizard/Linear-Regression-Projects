{
 "cells": [
  {
   "cell_type": "markdown",
   "id": "b6053809",
   "metadata": {},
   "source": [
    "# Salary Prediction using Linear Regression"
   ]
  },
  {
   "cell_type": "markdown",
   "id": "5bb26ad4",
   "metadata": {},
   "source": [
    "# Step-1: Import the necessary Python libraries"
   ]
  },
  {
   "cell_type": "code",
   "execution_count": 2,
   "id": "c2844a2f",
   "metadata": {},
   "outputs": [],
   "source": [
    "import numpy as np\n",
    "import pandas as pd\n",
    "import matplotlib.pyplot as plt"
   ]
  },
  {
   "cell_type": "markdown",
   "id": "e23f96a7",
   "metadata": {},
   "source": [
    "# Step-2: Upload the dataset and Analyze"
   ]
  },
  {
   "cell_type": "code",
   "execution_count": 3,
   "id": "8d60b654",
   "metadata": {},
   "outputs": [],
   "source": [
    "# upload the csv file\n",
    "\n",
    "data = pd.read_csv(\"Salary_Data.csv\")"
   ]
  },
  {
   "cell_type": "code",
   "execution_count": 4,
   "id": "50701999",
   "metadata": {},
   "outputs": [
    {
     "data": {
      "text/html": [
       "<div>\n",
       "<style scoped>\n",
       "    .dataframe tbody tr th:only-of-type {\n",
       "        vertical-align: middle;\n",
       "    }\n",
       "\n",
       "    .dataframe tbody tr th {\n",
       "        vertical-align: top;\n",
       "    }\n",
       "\n",
       "    .dataframe thead th {\n",
       "        text-align: right;\n",
       "    }\n",
       "</style>\n",
       "<table border=\"1\" class=\"dataframe\">\n",
       "  <thead>\n",
       "    <tr style=\"text-align: right;\">\n",
       "      <th></th>\n",
       "      <th>YearsExperience</th>\n",
       "      <th>Salary</th>\n",
       "    </tr>\n",
       "  </thead>\n",
       "  <tbody>\n",
       "    <tr>\n",
       "      <th>0</th>\n",
       "      <td>1.1</td>\n",
       "      <td>39343.0</td>\n",
       "    </tr>\n",
       "    <tr>\n",
       "      <th>1</th>\n",
       "      <td>1.3</td>\n",
       "      <td>46205.0</td>\n",
       "    </tr>\n",
       "    <tr>\n",
       "      <th>2</th>\n",
       "      <td>1.5</td>\n",
       "      <td>37731.0</td>\n",
       "    </tr>\n",
       "    <tr>\n",
       "      <th>3</th>\n",
       "      <td>2.0</td>\n",
       "      <td>43525.0</td>\n",
       "    </tr>\n",
       "    <tr>\n",
       "      <th>4</th>\n",
       "      <td>2.2</td>\n",
       "      <td>39891.0</td>\n",
       "    </tr>\n",
       "  </tbody>\n",
       "</table>\n",
       "</div>"
      ],
      "text/plain": [
       "   YearsExperience   Salary\n",
       "0              1.1  39343.0\n",
       "1              1.3  46205.0\n",
       "2              1.5  37731.0\n",
       "3              2.0  43525.0\n",
       "4              2.2  39891.0"
      ]
     },
     "execution_count": 4,
     "metadata": {},
     "output_type": "execute_result"
    }
   ],
   "source": [
    "# Lets check the uploaded dataset\n",
    "\n",
    "data.head()   # Returns the first five records"
   ]
  },
  {
   "cell_type": "code",
   "execution_count": 5,
   "id": "04247f44",
   "metadata": {},
   "outputs": [
    {
     "name": "stdout",
     "output_type": "stream",
     "text": [
      "<class 'pandas.core.frame.DataFrame'>\n",
      "RangeIndex: 30 entries, 0 to 29\n",
      "Data columns (total 2 columns):\n",
      " #   Column           Non-Null Count  Dtype  \n",
      "---  ------           --------------  -----  \n",
      " 0   YearsExperience  30 non-null     float64\n",
      " 1   Salary           30 non-null     float64\n",
      "dtypes: float64(2)\n",
      "memory usage: 608.0 bytes\n"
     ]
    }
   ],
   "source": [
    "# get overview about data(like no. of columns&rows,datatype,nullvalues/non-null values present,ect.,)\n",
    "\n",
    "data.info()  # Returns the summary of the data"
   ]
  },
  {
   "cell_type": "code",
   "execution_count": 6,
   "id": "1838e107",
   "metadata": {},
   "outputs": [
    {
     "data": {
      "text/plain": [
       "YearsExperience    0\n",
       "Salary             0\n",
       "dtype: int64"
      ]
     },
     "execution_count": 6,
     "metadata": {},
     "output_type": "execute_result"
    }
   ],
   "source": [
    "# Let’s check if the dataset has any null values or not\n",
    "\n",
    "data.isnull().sum()  # returns total null values present in each column"
   ]
  },
  {
   "cell_type": "code",
   "execution_count": null,
   "id": "536cf895",
   "metadata": {},
   "outputs": [],
   "source": []
  },
  {
   "cell_type": "markdown",
   "id": "3cc3fd01",
   "metadata": {},
   "source": [
    "# Step-3: Visualize the data"
   ]
  },
  {
   "cell_type": "code",
   "execution_count": 7,
   "id": "385c1ba2",
   "metadata": {},
   "outputs": [
    {
     "data": {
      "image/png": "[encoded data removed]",
      "text/plain": [
       "<Figure size 640x480 with 1 Axes>"
      ]
     },
     "metadata": {},
     "output_type": "display_data"
    }
   ],
   "source": [
    "# Let’s have a look at the relationship between the salary and job experience of the people\n",
    "\n",
    "plt.scatter(data[\"YearsExperience\"], data[\"Salary\"])\n",
    "plt.xlabel(\"Years of Experience\")\n",
    "plt.ylabel(\"Salary\")\n",
    "plt.show()"
   ]
  },
  {
   "cell_type": "markdown",
   "id": "90280099",
   "metadata": {},
   "source": [
    "From the above Visualization, we conclude that there is a perfect linear relationship between the salary and the job experience of the people.\n",
    "It means more job experience results in a higher salary."
   ]
  },
  {
   "cell_type": "markdown",
   "id": "43a59c8a",
   "metadata": {},
   "source": [
    "# Step-4: Training the Machine Learning model"
   ]
  },
  {
   "cell_type": "code",
   "execution_count": 8,
   "id": "e9fcf851",
   "metadata": {},
   "outputs": [],
   "source": [
    "# Lets split the dataset into training and test sets\n",
    "\n",
    "from sklearn.model_selection import train_test_split\n",
    "\n",
    "x = pd.DataFrame(data[\"YearsExperience\"])   # independent variable\n",
    "\n",
    "y = pd.DataFrame(data[\"Salary\"])     # dependent variable\n",
    "\n",
    "X_train, X_test, y_train, y_test = train_test_split(x, y, test_size = 0.3, random_state = 2)"
   ]
  },
  {
   "cell_type": "markdown",
   "id": "39472ee9",
   "metadata": {},
   "source": [
    "# Step-5: Initiate the Linear Regression Model and training"
   ]
  },
  {
   "cell_type": "code",
   "execution_count": 9,
   "id": "f2e18039",
   "metadata": {},
   "outputs": [],
   "source": [
    "# import the Linear Regression model\n",
    "\n",
    "from sklearn.linear_model import LinearRegression"
   ]
  },
  {
   "cell_type": "code",
   "execution_count": 10,
   "id": "8a03b3a7",
   "metadata": {},
   "outputs": [
    {
     "data": {
      "text/plain": [
       "LinearRegression()"
      ]
     },
     "execution_count": 10,
     "metadata": {},
     "output_type": "execute_result"
    }
   ],
   "source": [
    "# Initiate the Linear Regression to the variable model\n",
    "\n",
    "model = LinearRegression()\n",
    "\n",
    "model.fit(X_train,y_train)   # training the model"
   ]
  },
  {
   "cell_type": "code",
   "execution_count": 11,
   "id": "7936a3fb",
   "metadata": {},
   "outputs": [
    {
     "data": {
      "text/plain": [
       "array([[ 36143.62176044],\n",
       "       [ 34237.05465324],\n",
       "       [ 66648.69547576],\n",
       "       [ 59022.42704693],\n",
       "       [ 91434.06786946],\n",
       "       [ 80947.94877982],\n",
       "       [101920.1869591 ],\n",
       "       [ 52349.44217171],\n",
       "       [ 42816.60663567]])"
      ]
     },
     "execution_count": 11,
     "metadata": {},
     "output_type": "execute_result"
    }
   ],
   "source": [
    "# lets find the predicted values of y\n",
    "\n",
    "y_pred = model.predict(X_test)\n",
    "\n",
    "y_pred"
   ]
  },
  {
   "cell_type": "code",
   "execution_count": null,
   "id": "436cb56b",
   "metadata": {},
   "outputs": [],
   "source": []
  },
  {
   "cell_type": "markdown",
   "id": "e18367fe",
   "metadata": {},
   "source": [
    "# Step-5: Evaluate the performance of the model"
   ]
  },
  {
   "cell_type": "markdown",
   "id": "db5209f2",
   "metadata": {},
   "source": [
    "The performance of the trained model is calculated using the RMSE value.\n",
    "Root Mean Square Error (RMSE) is a statistical metric that measures the average distance between the predicted and actual values of a regression mode.\n",
    "It is calculated as the square root of the variance of the residuals, which are the differences between the observed and predicted values. The lower the RMSE, the better the model is able to fit the dataset."
   ]
  },
  {
   "cell_type": "code",
   "execution_count": 12,
   "id": "67d8cb70",
   "metadata": {},
   "outputs": [
    {
     "name": "stdout",
     "output_type": "stream",
     "text": [
      "8025.3740962811\n"
     ]
    }
   ],
   "source": [
    "from sklearn.metrics import mean_squared_error\n",
    "\n",
    "mse = mean_squared_error(y_test, y_pred)\n",
    "\n",
    "rmse = np.sqrt(mse)\n",
    "\n",
    "print(rmse)\n"
   ]
  },
  {
   "cell_type": "markdown",
   "id": "bfcb864e",
   "metadata": {},
   "source": [
    "# Step-6: Make Predictions on New data or Unseen data"
   ]
  },
  {
   "cell_type": "code",
   "execution_count": 14,
   "id": "84940ee6",
   "metadata": {},
   "outputs": [
    {
     "name": "stdout",
     "output_type": "stream",
     "text": [
      "Enter years of Experience : 4\n",
      "Predicted Salary :  [[61882.27770774]]\n"
     ]
    },
    {
     "name": "stderr",
     "output_type": "stream",
     "text": [
      "C:\\Users\\srich\\anaconda3\\lib\\site-packages\\sklearn\\base.py:450: UserWarning: X does not have valid feature names, but LinearRegression was fitted with feature names\n",
      "  warnings.warn(\n"
     ]
    }
   ],
   "source": [
    "new_data = int(input(\"Enter years of Experience : \"))      # taking input from the user\n",
    "\n",
    "features = np.array([[new_data]])   \n",
    "\n",
    "salary_predicted = model.predict(features)\n",
    "\n",
    "print(\"Predicted Salary : \", salary_predicted)"
   ]
  },
  {
   "cell_type": "markdown",
   "id": "a30bdb18",
   "metadata": {},
   "source": [
    "Through this regression analysis, we found a perfect linear relationship between the salary and the job experience of the people. It means more job experience results in a higher salary."
   ]
  },
  {
   "cell_type": "code",
   "execution_count": null,
   "id": "d21ea4dc",
   "metadata": {},
   "outputs": [],
   "source": []
  }
 ],
 "metadata": {
  "kernelspec": {
   "display_name": "Python 3 (ipykernel)",
   "language": "python",
   "name": "python3"
  },
  "language_info": {
   "codemirror_mode": {
    "name": "ipython",
    "version": 3
   },
   "file_extension": ".py",
   "mimetype": "text/x-python",
   "name": "python",
   "nbconvert_exporter": "python",
   "pygments_lexer": "ipython3",
   "version": "3.9.13"
  }
 },
 "nbformat": 4,
 "nbformat_minor": 5
}
